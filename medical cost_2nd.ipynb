{
 "cells": [
  {
   "cell_type": "code",
   "execution_count": 22,
   "id": "ce021815",
   "metadata": {},
   "outputs": [],
   "source": [
    "import pandas as pd\n",
    "import numpy as np\n",
    "\n",
    "from sklearn.preprocessing import StandardScaler\n",
    "import warnings\n",
    "warnings.filterwarnings('ignore')\n",
    "import os\n",
    "from sklearn.model_selection import train_test_split\n",
    "import sagemaker\n",
    "import boto3\n",
    "import io \n",
    "import sagemaker.amazon.common as smac \n",
    "import matplotlib.pyplot as plt\n",
    "\n",
    "from sklearn.metrics import mean_squared_error, r2_score"
   ]
  },
  {
   "cell_type": "code",
   "execution_count": 23,
   "id": "7e4e8931",
   "metadata": {},
   "outputs": [
    {
     "data": {
      "text/html": [
       "<div>\n",
       "<style scoped>\n",
       "    .dataframe tbody tr th:only-of-type {\n",
       "        vertical-align: middle;\n",
       "    }\n",
       "\n",
       "    .dataframe tbody tr th {\n",
       "        vertical-align: top;\n",
       "    }\n",
       "\n",
       "    .dataframe thead th {\n",
       "        text-align: right;\n",
       "    }\n",
       "</style>\n",
       "<table border=\"1\" class=\"dataframe\">\n",
       "  <thead>\n",
       "    <tr style=\"text-align: right;\">\n",
       "      <th></th>\n",
       "      <th>age</th>\n",
       "      <th>sex</th>\n",
       "      <th>bmi</th>\n",
       "      <th>children</th>\n",
       "      <th>smoker</th>\n",
       "      <th>region</th>\n",
       "      <th>charges</th>\n",
       "    </tr>\n",
       "  </thead>\n",
       "  <tbody>\n",
       "    <tr>\n",
       "      <th>0</th>\n",
       "      <td>19</td>\n",
       "      <td>female</td>\n",
       "      <td>27.900</td>\n",
       "      <td>0</td>\n",
       "      <td>yes</td>\n",
       "      <td>southwest</td>\n",
       "      <td>16884.92400</td>\n",
       "    </tr>\n",
       "    <tr>\n",
       "      <th>1</th>\n",
       "      <td>18</td>\n",
       "      <td>male</td>\n",
       "      <td>33.770</td>\n",
       "      <td>1</td>\n",
       "      <td>no</td>\n",
       "      <td>southeast</td>\n",
       "      <td>1725.55230</td>\n",
       "    </tr>\n",
       "    <tr>\n",
       "      <th>2</th>\n",
       "      <td>28</td>\n",
       "      <td>male</td>\n",
       "      <td>33.000</td>\n",
       "      <td>3</td>\n",
       "      <td>no</td>\n",
       "      <td>southeast</td>\n",
       "      <td>4449.46200</td>\n",
       "    </tr>\n",
       "    <tr>\n",
       "      <th>3</th>\n",
       "      <td>33</td>\n",
       "      <td>male</td>\n",
       "      <td>22.705</td>\n",
       "      <td>0</td>\n",
       "      <td>no</td>\n",
       "      <td>northwest</td>\n",
       "      <td>21984.47061</td>\n",
       "    </tr>\n",
       "    <tr>\n",
       "      <th>4</th>\n",
       "      <td>32</td>\n",
       "      <td>male</td>\n",
       "      <td>28.880</td>\n",
       "      <td>0</td>\n",
       "      <td>no</td>\n",
       "      <td>northwest</td>\n",
       "      <td>3866.85520</td>\n",
       "    </tr>\n",
       "  </tbody>\n",
       "</table>\n",
       "</div>"
      ],
      "text/plain": [
       "   age     sex     bmi  children smoker     region      charges\n",
       "0   19  female  27.900         0    yes  southwest  16884.92400\n",
       "1   18    male  33.770         1     no  southeast   1725.55230\n",
       "2   28    male  33.000         3     no  southeast   4449.46200\n",
       "3   33    male  22.705         0     no  northwest  21984.47061\n",
       "4   32    male  28.880         0     no  northwest   3866.85520"
      ]
     },
     "execution_count": 23,
     "metadata": {},
     "output_type": "execute_result"
    }
   ],
   "source": [
    "insurance = pd.read_csv('insurance.csv')\n",
    "insurance.head()"
   ]
  },
  {
   "cell_type": "code",
   "execution_count": 24,
   "id": "6cbc7b58",
   "metadata": {},
   "outputs": [],
   "source": [
    "ins = pd.get_dummies(data = insurance, drop_first = True )\n"
   ]
  },
  {
   "cell_type": "code",
   "execution_count": 25,
   "id": "b6ca97b1",
   "metadata": {
    "scrolled": true
   },
   "outputs": [
    {
     "data": {
      "text/html": [
       "<div>\n",
       "<style scoped>\n",
       "    .dataframe tbody tr th:only-of-type {\n",
       "        vertical-align: middle;\n",
       "    }\n",
       "\n",
       "    .dataframe tbody tr th {\n",
       "        vertical-align: top;\n",
       "    }\n",
       "\n",
       "    .dataframe thead th {\n",
       "        text-align: right;\n",
       "    }\n",
       "</style>\n",
       "<table border=\"1\" class=\"dataframe\">\n",
       "  <thead>\n",
       "    <tr style=\"text-align: right;\">\n",
       "      <th></th>\n",
       "      <th>age</th>\n",
       "      <th>bmi</th>\n",
       "      <th>children</th>\n",
       "      <th>charges</th>\n",
       "      <th>sex_male</th>\n",
       "      <th>smoker_yes</th>\n",
       "      <th>region_northwest</th>\n",
       "      <th>region_southeast</th>\n",
       "      <th>region_southwest</th>\n",
       "    </tr>\n",
       "  </thead>\n",
       "  <tbody>\n",
       "    <tr>\n",
       "      <th>0</th>\n",
       "      <td>19</td>\n",
       "      <td>27.900</td>\n",
       "      <td>0</td>\n",
       "      <td>16884.92400</td>\n",
       "      <td>0</td>\n",
       "      <td>1</td>\n",
       "      <td>0</td>\n",
       "      <td>0</td>\n",
       "      <td>1</td>\n",
       "    </tr>\n",
       "    <tr>\n",
       "      <th>1</th>\n",
       "      <td>18</td>\n",
       "      <td>33.770</td>\n",
       "      <td>1</td>\n",
       "      <td>1725.55230</td>\n",
       "      <td>1</td>\n",
       "      <td>0</td>\n",
       "      <td>0</td>\n",
       "      <td>1</td>\n",
       "      <td>0</td>\n",
       "    </tr>\n",
       "    <tr>\n",
       "      <th>2</th>\n",
       "      <td>28</td>\n",
       "      <td>33.000</td>\n",
       "      <td>3</td>\n",
       "      <td>4449.46200</td>\n",
       "      <td>1</td>\n",
       "      <td>0</td>\n",
       "      <td>0</td>\n",
       "      <td>1</td>\n",
       "      <td>0</td>\n",
       "    </tr>\n",
       "    <tr>\n",
       "      <th>3</th>\n",
       "      <td>33</td>\n",
       "      <td>22.705</td>\n",
       "      <td>0</td>\n",
       "      <td>21984.47061</td>\n",
       "      <td>1</td>\n",
       "      <td>0</td>\n",
       "      <td>1</td>\n",
       "      <td>0</td>\n",
       "      <td>0</td>\n",
       "    </tr>\n",
       "    <tr>\n",
       "      <th>4</th>\n",
       "      <td>32</td>\n",
       "      <td>28.880</td>\n",
       "      <td>0</td>\n",
       "      <td>3866.85520</td>\n",
       "      <td>1</td>\n",
       "      <td>0</td>\n",
       "      <td>1</td>\n",
       "      <td>0</td>\n",
       "      <td>0</td>\n",
       "    </tr>\n",
       "  </tbody>\n",
       "</table>\n",
       "</div>"
      ],
      "text/plain": [
       "   age     bmi  children      charges  sex_male  smoker_yes  region_northwest  \\\n",
       "0   19  27.900         0  16884.92400         0           1                 0   \n",
       "1   18  33.770         1   1725.55230         1           0                 0   \n",
       "2   28  33.000         3   4449.46200         1           0                 0   \n",
       "3   33  22.705         0  21984.47061         1           0                 1   \n",
       "4   32  28.880         0   3866.85520         1           0                 1   \n",
       "\n",
       "   region_southeast  region_southwest  \n",
       "0                 0                 1  \n",
       "1                 1                 0  \n",
       "2                 1                 0  \n",
       "3                 0                 0  \n",
       "4                 0                 0  "
      ]
     },
     "execution_count": 25,
     "metadata": {},
     "output_type": "execute_result"
    }
   ],
   "source": [
    "ins.head()\n"
   ]
  },
  {
   "cell_type": "code",
   "execution_count": 26,
   "id": "53c84dff",
   "metadata": {},
   "outputs": [],
   "source": [
    "from sklearn.preprocessing import StandardScaler\n",
    "scaler = StandardScaler()\n",
    "X_new = scaler.fit_transform(ins.drop(columns = ['charges']))"
   ]
  },
  {
   "cell_type": "code",
   "execution_count": 27,
   "id": "558fc2bb",
   "metadata": {},
   "outputs": [
    {
     "data": {
      "text/plain": [
       "(1338, 8)"
      ]
     },
     "execution_count": 27,
     "metadata": {},
     "output_type": "execute_result"
    }
   ],
   "source": [
    "pd.DataFrame(X_new).shape"
   ]
  },
  {
   "cell_type": "code",
   "execution_count": 28,
   "id": "d0c1c5e1",
   "metadata": {},
   "outputs": [],
   "source": [
    "y=ins['charges']\n"
   ]
  },
  {
   "cell_type": "code",
   "execution_count": 29,
   "id": "e9ff308b",
   "metadata": {},
   "outputs": [],
   "source": [
    "X = np.array(X_new).astype('float32')\n",
    "y = np.array(y).astype('float32')"
   ]
  },
  {
   "cell_type": "code",
   "execution_count": 30,
   "id": "d4538b61",
   "metadata": {},
   "outputs": [],
   "source": [
    "# Split the data into training and testing sets\n",
    "X_train, X_test, y_train, y_test = train_test_split(X, y, test_size=0.2)"
   ]
  },
  {
   "cell_type": "code",
   "execution_count": 31,
   "id": "57c60857",
   "metadata": {},
   "outputs": [
    {
     "data": {
      "text/plain": [
       "(1070, 8)"
      ]
     },
     "execution_count": 31,
     "metadata": {},
     "output_type": "execute_result"
    }
   ],
   "source": [
    "X_train.shape"
   ]
  },
  {
   "cell_type": "code",
   "execution_count": 32,
   "id": "cfa1c317",
   "metadata": {},
   "outputs": [
    {
     "data": {
      "text/plain": [
       "array([-0.3707464 , -1.9133159 ,  1.5809257 , -1.0105187 , -0.5074631 ,\n",
       "       -0.5664179 , -0.61132365, -0.5664179 ], dtype=float32)"
      ]
     },
     "execution_count": 32,
     "metadata": {},
     "output_type": "execute_result"
    }
   ],
   "source": [
    "X_train[0]"
   ]
  },
  {
   "cell_type": "code",
   "execution_count": 33,
   "id": "6ca35e6c",
   "metadata": {},
   "outputs": [
    {
     "name": "stdout",
     "output_type": "stream",
     "text": [
      "arn:aws:iam::051677741640:role/service-role/AmazonSageMaker-ExecutionRole-20211229T211710\n"
     ]
    }
   ],
   "source": [
    "#Create a SageMaker session\n",
    "\n",
    "sagemaker_session = sagemaker.Session()\n",
    "bucket = \"ml-sagemaker-gwu\"\n",
    "\n",
    "#Access SageMaker role created prior to session\n",
    "#Need to pass role to training job\n",
    "role = sagemaker.get_execution_role()\n",
    "print(role)\n"
   ]
  },
  {
   "cell_type": "code",
   "execution_count": 34,
   "id": "bb7327a9",
   "metadata": {},
   "outputs": [
    {
     "name": "stdout",
     "output_type": "stream",
     "text": [
      "uploaded training data location: s3://ml-sagemaker-gwu/medical_data/train/linear-train-data\n",
      "uploaded training data location: s3://ml-sagemaker-gwu/medical_data/test/linear-test-data\n",
      "Training artifacts will be uploaded to: s3://ml-sagemaker-gwu/medical_data/output\n"
     ]
    }
   ],
   "source": [
    "#Need to convert dataset to RecordIO format for Linear Learner to understand\n",
    "\n",
    "\n",
    "buf = io.BytesIO()\n",
    "smac.write_numpy_to_dense_tensor(buf, X_train, y_train)\n",
    "buf.seek(0) \n",
    "\n",
    "###Uploading training data\n",
    "#Filename for training data we are uploading to S3 \n",
    "key = 'linear-train-data'\n",
    "prefix = 'medical_data'\n",
    "#Upload training data to S3\n",
    "boto3.resource('s3').Bucket(bucket).Object(os.path.join(prefix, 'train', key)).upload_fileobj(buf)\n",
    "s3_train_data = 's3://{}/{}/train/{}'.format(bucket, prefix, key)\n",
    "print('uploaded training data location: {}'.format(s3_train_data))\n",
    "\n",
    "###Uploading test data\n",
    "buf = io.BytesIO() # create an in-memory byte array (buf is a buffer I will be writing to)\n",
    "smac.write_numpy_to_dense_tensor(buf, X_test, y_test)\n",
    "buf.seek(0)\n",
    "\n",
    "#Sub-folder for test data\n",
    "key = 'linear-test-data'\n",
    "boto3.resource('s3').Bucket(bucket).Object(os.path.join(prefix, 'test', key)).upload_fileobj(buf)\n",
    "s3_test_data = 's3://{}/{}/test/{}'.format(bucket, prefix, key)\n",
    "print('uploaded training data location: {}'.format(s3_test_data))\n",
    "\n",
    "###Model Artifacts\n",
    "output_location = 's3://{}/{}/output'.format(bucket, prefix)\n",
    "print('Training artifacts will be uploaded to: {}'.format(output_location))"
   ]
  },
  {
   "cell_type": "code",
   "execution_count": 35,
   "id": "985ea723",
   "metadata": {},
   "outputs": [],
   "source": [
    "from sagemaker.amazon.amazon_estimator import image_uris\n",
    "container = image_uris.retrieve('linear-learner', boto3.Session().region_name)\n",
    "\n",
    "linear = sagemaker.estimator.Estimator(container,\n",
    "                                       role, \n",
    "                                       instance_count = 1, \n",
    "                                       instance_type = 'ml.c4.xlarge',\n",
    "                                       output_path = output_location,\n",
    "                                       sagemaker_session = sagemaker_session)"
   ]
  },
  {
   "cell_type": "code",
   "execution_count": 36,
   "id": "95a82f17",
   "metadata": {},
   "outputs": [],
   "source": [
    "linear.set_hyperparameters(feature_dim = 8,\n",
    "                           predictor_type = 'regressor',\n",
    "                           mini_batch_size = 20,\n",
    "                           epochs = 5,\n",
    "                           num_models = 10,\n",
    "                           loss = 'absolute_loss')"
   ]
  },
  {
   "cell_type": "code",
   "execution_count": 37,
   "id": "b2baba39",
   "metadata": {},
   "outputs": [
    {
     "name": "stdout",
     "output_type": "stream",
     "text": [
      "2022-01-03 00:38:56 Starting - Starting the training job...\n",
      "2022-01-03 00:38:58 Starting - Launching requested ML instancesProfilerReport-1641170336: InProgress\n",
      "...\n",
      "2022-01-03 00:39:53 Starting - Preparing the instances for training.........\n",
      "2022-01-03 00:41:21 Downloading - Downloading input data...\n",
      "2022-01-03 00:41:53 Training - Downloading the training image...\n",
      "2022-01-03 00:42:25 Uploading - Uploading generated training model\u001b[34mDocker entrypoint called with argument(s): train\u001b[0m\n",
      "\u001b[34mRunning default environment configuration script\u001b[0m\n",
      "\u001b[34m[01/03/2022 00:42:19 INFO 139680974665536] Reading default configuration from /opt/amazon/lib/python3.7/site-packages/algorithm/resources/default-input.json: {'mini_batch_size': '1000', 'epochs': '15', 'feature_dim': 'auto', 'use_bias': 'true', 'binary_classifier_model_selection_criteria': 'accuracy', 'f_beta': '1.0', 'target_recall': '0.8', 'target_precision': '0.8', 'num_models': 'auto', 'num_calibration_samples': '10000000', 'init_method': 'uniform', 'init_scale': '0.07', 'init_sigma': '0.01', 'init_bias': '0.0', 'optimizer': 'auto', 'loss': 'auto', 'margin': '1.0', 'quantile': '0.5', 'loss_insensitivity': '0.01', 'huber_delta': '1.0', 'num_classes': '1', 'accuracy_top_k': '3', 'wd': 'auto', 'l1': 'auto', 'momentum': 'auto', 'learning_rate': 'auto', 'beta_1': 'auto', 'beta_2': 'auto', 'bias_lr_mult': 'auto', 'bias_wd_mult': 'auto', 'use_lr_scheduler': 'true', 'lr_scheduler_step': 'auto', 'lr_scheduler_factor': 'auto', 'lr_scheduler_minimum_lr': 'auto', 'positive_example_weight_mult': '1.0', 'balance_multiclass_weights': 'false', 'normalize_data': 'true', 'normalize_label': 'auto', 'unbias_data': 'auto', 'unbias_label': 'auto', 'num_point_for_scaler': '10000', '_kvstore': 'auto', '_num_gpus': 'auto', '_num_kv_servers': 'auto', '_log_level': 'info', '_tuning_objective_metric': '', 'early_stopping_patience': '3', 'early_stopping_tolerance': '0.001', '_enable_profiler': 'false'}\u001b[0m\n",
      "\u001b[34m[01/03/2022 00:42:19 INFO 139680974665536] Merging with provided configuration from /opt/ml/input/config/hyperparameters.json: {'loss': 'absolute_loss', 'feature_dim': '8', 'num_models': '10', 'predictor_type': 'regressor', 'epochs': '5', 'mini_batch_size': '20'}\u001b[0m\n",
      "\u001b[34m[01/03/2022 00:42:19 INFO 139680974665536] Final configuration: {'mini_batch_size': '20', 'epochs': '5', 'feature_dim': '8', 'use_bias': 'true', 'binary_classifier_model_selection_criteria': 'accuracy', 'f_beta': '1.0', 'target_recall': '0.8', 'target_precision': '0.8', 'num_models': '10', 'num_calibration_samples': '10000000', 'init_method': 'uniform', 'init_scale': '0.07', 'init_sigma': '0.01', 'init_bias': '0.0', 'optimizer': 'auto', 'loss': 'absolute_loss', 'margin': '1.0', 'quantile': '0.5', 'loss_insensitivity': '0.01', 'huber_delta': '1.0', 'num_classes': '1', 'accuracy_top_k': '3', 'wd': 'auto', 'l1': 'auto', 'momentum': 'auto', 'learning_rate': 'auto', 'beta_1': 'auto', 'beta_2': 'auto', 'bias_lr_mult': 'auto', 'bias_wd_mult': 'auto', 'use_lr_scheduler': 'true', 'lr_scheduler_step': 'auto', 'lr_scheduler_factor': 'auto', 'lr_scheduler_minimum_lr': 'auto', 'positive_example_weight_mult': '1.0', 'balance_multiclass_weights': 'false', 'normalize_data': 'true', 'normalize_label': 'auto', 'unbias_data': 'auto', 'unbias_label': 'auto', 'num_point_for_scaler': '10000', '_kvstore': 'auto', '_num_gpus': 'auto', '_num_kv_servers': 'auto', '_log_level': 'info', '_tuning_objective_metric': '', 'early_stopping_patience': '3', 'early_stopping_tolerance': '0.001', '_enable_profiler': 'false', 'predictor_type': 'regressor'}\u001b[0m\n",
      "\u001b[34m[01/03/2022 00:42:19 WARNING 139680974665536] Loggers have already been setup.\u001b[0m\n",
      "\u001b[34mProcess 1 is a worker.\u001b[0m\n",
      "\u001b[34m[01/03/2022 00:42:19 INFO 139680974665536] Using default worker.\u001b[0m\n",
      "\u001b[34m[01/03/2022 00:42:19 INFO 139680974665536] Checkpoint loading and saving are disabled.\u001b[0m\n",
      "\u001b[34m[2022-01-03 00:42:19.398] [tensorio] [info] epoch_stats={\"data_pipeline\": \"/opt/ml/input/data/train\", \"epoch\": 0, \"duration\": 14, \"num_examples\": 1, \"num_bytes\": 1520}\u001b[0m\n",
      "\u001b[34m[01/03/2022 00:42:19 INFO 139680974665536] Create Store: local\u001b[0m\n",
      "\u001b[34m[2022-01-03 00:42:19.763] [tensorio] [info] epoch_stats={\"data_pipeline\": \"/opt/ml/input/data/train\", \"epoch\": 1, \"duration\": 363, \"num_examples\": 54, \"num_bytes\": 81320}\u001b[0m\n",
      "\u001b[34m[01/03/2022 00:42:19 INFO 139680974665536] Scaler algorithm parameters\n",
      " <algorithm.scaler.ScalerAlgorithmStable object at 0x7f09a2a01750>\u001b[0m\n",
      "\u001b[34m[01/03/2022 00:42:19 INFO 139680974665536] Scaling model computed with parameters:\n",
      " {'stdev_label': \u001b[0m\n",
      "\u001b[34m[12109.028]\u001b[0m\n",
      "\u001b[34m<NDArray 1 @cpu(0)>, 'stdev_weight': \u001b[0m\n",
      "\u001b[34m[0.9932665  1.0094569  1.0211405  1.0000526  0.9998801  0.99403304\n",
      " 1.0039036  1.0110084 ]\u001b[0m\n",
      "\u001b[34m<NDArray 8 @cpu(0)>, 'mean_label': \u001b[0m\n",
      "\u001b[34m[13249.321]\u001b[0m\n",
      "\u001b[34m<NDArray 1 @cpu(0)>, 'mean_weight': \u001b[0m\n",
      "\u001b[34m[-0.0033214   0.00440821  0.01987494 -0.00857703 -0.00016425 -0.00984202\n",
      "  0.00769385  0.01875673]\u001b[0m\n",
      "\u001b[34m<NDArray 8 @cpu(0)>}\u001b[0m\n",
      "\u001b[34m[01/03/2022 00:42:19 INFO 139680974665536] nvidia-smi: took 0.032 seconds to run.\u001b[0m\n",
      "\u001b[34m[01/03/2022 00:42:19 INFO 139680974665536] nvidia-smi identified 0 GPUs.\u001b[0m\n",
      "\u001b[34m[01/03/2022 00:42:19 INFO 139680974665536] Number of GPUs being used: 0\u001b[0m\n",
      "\u001b[34m#metrics {\"StartTime\": 1641170539.8365545, \"EndTime\": 1641170539.8366182, \"Dimensions\": {\"Algorithm\": \"Linear Learner\", \"Host\": \"algo-1\", \"Operation\": \"training\", \"Meta\": \"init_train_data_iter\"}, \"Metrics\": {\"Total Records Seen\": {\"sum\": 1090.0, \"count\": 1, \"min\": 1090, \"max\": 1090}, \"Total Batches Seen\": {\"sum\": 55.0, \"count\": 1, \"min\": 55, \"max\": 55}, \"Max Records Seen Between Resets\": {\"sum\": 1070.0, \"count\": 1, \"min\": 1070, \"max\": 1070}, \"Max Batches Seen Between Resets\": {\"sum\": 54.0, \"count\": 1, \"min\": 54, \"max\": 54}, \"Reset Count\": {\"sum\": 2.0, \"count\": 1, \"min\": 2, \"max\": 2}, \"Number of Records Since Last Reset\": {\"sum\": 0.0, \"count\": 1, \"min\": 0, \"max\": 0}, \"Number of Batches Since Last Reset\": {\"sum\": 0.0, \"count\": 1, \"min\": 0, \"max\": 0}}}\u001b[0m\n",
      "\u001b[34m[2022-01-03 00:42:20.180] [tensorio] [info] epoch_stats={\"data_pipeline\": \"/opt/ml/input/data/train\", \"epoch\": 4, \"duration\": 342, \"num_examples\": 54, \"num_bytes\": 81320}\u001b[0m\n",
      "\u001b[34m#metrics {\"StartTime\": 1641170540.180078, \"EndTime\": 1641170540.180148, \"Dimensions\": {\"Algorithm\": \"Linear Learner\", \"Host\": \"algo-1\", \"Operation\": \"training\", \"epoch\": 0, \"model\": 0}, \"Metrics\": {\"train_absolute_loss_objective\": {\"sum\": 0.5734555140981135, \"count\": 1, \"min\": 0.5734555140981135, \"max\": 0.5734555140981135}}}\u001b[0m\n",
      "\u001b[34m#metrics {\"StartTime\": 1641170540.1802418, \"EndTime\": 1641170540.1802633, \"Dimensions\": {\"Algorithm\": \"Linear Learner\", \"Host\": \"algo-1\", \"Operation\": \"training\", \"epoch\": 0, \"model\": 1}, \"Metrics\": {\"train_absolute_loss_objective\": {\"sum\": 0.5891032119966902, \"count\": 1, \"min\": 0.5891032119966902, \"max\": 0.5891032119966902}}}\u001b[0m\n",
      "\u001b[34m#metrics {\"StartTime\": 1641170540.1803157, \"EndTime\": 1641170540.1803317, \"Dimensions\": {\"Algorithm\": \"Linear Learner\", \"Host\": \"algo-1\", \"Operation\": \"training\", \"epoch\": 0, \"model\": 2}, \"Metrics\": {\"train_absolute_loss_objective\": {\"sum\": 0.5328401108957687, \"count\": 1, \"min\": 0.5328401108957687, \"max\": 0.5328401108957687}}}\u001b[0m\n",
      "\u001b[34m#metrics {\"StartTime\": 1641170540.1803806, \"EndTime\": 1641170540.1803977, \"Dimensions\": {\"Algorithm\": \"Linear Learner\", \"Host\": \"algo-1\", \"Operation\": \"training\", \"epoch\": 0, \"model\": 3}, \"Metrics\": {\"train_absolute_loss_objective\": {\"sum\": 0.6102985566517092, \"count\": 1, \"min\": 0.6102985566517092, \"max\": 0.6102985566517092}}}\u001b[0m\n",
      "\u001b[34m#metrics {\"StartTime\": 1641170540.1804476, \"EndTime\": 1641170540.180464, \"Dimensions\": {\"Algorithm\": \"Linear Learner\", \"Host\": \"algo-1\", \"Operation\": \"training\", \"epoch\": 0, \"model\": 4}, \"Metrics\": {\"train_absolute_loss_objective\": {\"sum\": 0.4916824043921705, \"count\": 1, \"min\": 0.4916824043921705, \"max\": 0.4916824043921705}}}\u001b[0m\n",
      "\u001b[34m#metrics {\"StartTime\": 1641170540.1805208, \"EndTime\": 1641170540.180537, \"Dimensions\": {\"Algorithm\": \"Linear Learner\", \"Host\": \"algo-1\", \"Operation\": \"training\", \"epoch\": 0, \"model\": 5}, \"Metrics\": {\"train_absolute_loss_objective\": {\"sum\": 0.4588948996561878, \"count\": 1, \"min\": 0.4588948996561878, \"max\": 0.4588948996561878}}}\u001b[0m\n",
      "\u001b[34m#metrics {\"StartTime\": 1641170540.1805973, \"EndTime\": 1641170540.1806147, \"Dimensions\": {\"Algorithm\": \"Linear Learner\", \"Host\": \"algo-1\", \"Operation\": \"training\", \"epoch\": 0, \"model\": 6}, \"Metrics\": {\"train_absolute_loss_objective\": {\"sum\": 0.49216964199857893, \"count\": 1, \"min\": 0.49216964199857893, \"max\": 0.49216964199857893}}}\u001b[0m\n",
      "\u001b[34m#metrics {\"StartTime\": 1641170540.1806703, \"EndTime\": 1641170540.1806877, \"Dimensions\": {\"Algorithm\": \"Linear Learner\", \"Host\": \"algo-1\", \"Operation\": \"training\", \"epoch\": 0, \"model\": 7}, \"Metrics\": {\"train_absolute_loss_objective\": {\"sum\": 0.47778415455008455, \"count\": 1, \"min\": 0.47778415455008455, \"max\": 0.47778415455008455}}}\u001b[0m\n",
      "\u001b[34m#metrics {\"StartTime\": 1641170540.1807399, \"EndTime\": 1641170540.1807573, \"Dimensions\": {\"Algorithm\": \"Linear Learner\", \"Host\": \"algo-1\", \"Operation\": \"training\", \"epoch\": 0, \"model\": 8}, \"Metrics\": {\"train_absolute_loss_objective\": {\"sum\": 0.6217104034603766, \"count\": 1, \"min\": 0.6217104034603766, \"max\": 0.6217104034603766}}}\u001b[0m\n",
      "\u001b[34m#metrics {\"StartTime\": 1641170540.1808202, \"EndTime\": 1641170540.1808364, \"Dimensions\": {\"Algorithm\": \"Linear Learner\", \"Host\": \"algo-1\", \"Operation\": \"training\", \"epoch\": 0, \"model\": 9}, \"Metrics\": {\"train_absolute_loss_objective\": {\"sum\": 0.5424836622094208, \"count\": 1, \"min\": 0.5424836622094208, \"max\": 0.5424836622094208}}}\u001b[0m\n",
      "\u001b[34m[01/03/2022 00:42:20 INFO 139680974665536] #quality_metric: host=algo-1, epoch=0, train absolute_loss_objective <loss>=0.5734555140981135\u001b[0m\n",
      "\u001b[34m[01/03/2022 00:42:20 INFO 139680974665536] #early_stopping_criteria_metric: host=algo-1, epoch=0, criteria=absolute_loss_objective, value=0.4588948996561878\u001b[0m\n",
      "\u001b[34m[01/03/2022 00:42:20 INFO 139680974665536] Epoch 0: Loss improved. Updating best model\u001b[0m\n",
      "\u001b[34m[01/03/2022 00:42:20 INFO 139680974665536] Saving model for epoch: 0\u001b[0m\n",
      "\u001b[34m[01/03/2022 00:42:20 INFO 139680974665536] Saved checkpoint to \"/tmp/tmpnkmji6qt/mx-mod-0000.params\"\u001b[0m\n",
      "\u001b[34m[01/03/2022 00:42:20 INFO 139680974665536] #progress_metric: host=algo-1, completed 20.0 % of epochs\u001b[0m\n",
      "\u001b[34m#metrics {\"StartTime\": 1641170539.836988, \"EndTime\": 1641170540.192586, \"Dimensions\": {\"Algorithm\": \"Linear Learner\", \"Host\": \"algo-1\", \"Operation\": \"training\", \"epoch\": 0, \"Meta\": \"training_data_iter\"}, \"Metrics\": {\"Total Records Seen\": {\"sum\": 2160.0, \"count\": 1, \"min\": 2160, \"max\": 2160}, \"Total Batches Seen\": {\"sum\": 109.0, \"count\": 1, \"min\": 109, \"max\": 109}, \"Max Records Seen Between Resets\": {\"sum\": 1070.0, \"count\": 1, \"min\": 1070, \"max\": 1070}, \"Max Batches Seen Between Resets\": {\"sum\": 54.0, \"count\": 1, \"min\": 54, \"max\": 54}, \"Reset Count\": {\"sum\": 3.0, \"count\": 1, \"min\": 3, \"max\": 3}, \"Number of Records Since Last Reset\": {\"sum\": 1070.0, \"count\": 1, \"min\": 1070, \"max\": 1070}, \"Number of Batches Since Last Reset\": {\"sum\": 54.0, \"count\": 1, \"min\": 54, \"max\": 54}}}\u001b[0m\n",
      "\u001b[34m[01/03/2022 00:42:20 INFO 139680974665536] #throughput_metric: host=algo-1, train throughput=3007.864498474254 records/second\u001b[0m\n",
      "\u001b[34m[2022-01-03 00:42:20.533] [tensorio] [info] epoch_stats={\"data_pipeline\": \"/opt/ml/input/data/train\", \"epoch\": 6, \"duration\": 340, \"num_examples\": 54, \"num_bytes\": 81320}\u001b[0m\n",
      "\u001b[34m#metrics {\"StartTime\": 1641170540.5338254, \"EndTime\": 1641170540.5338783, \"Dimensions\": {\"Algorithm\": \"Linear Learner\", \"Host\": \"algo-1\", \"Operation\": \"training\", \"epoch\": 1, \"model\": 0}, \"Metrics\": {\"train_absolute_loss_objective\": {\"sum\": 0.3810232010652434, \"count\": 1, \"min\": 0.3810232010652434, \"max\": 0.3810232010652434}}}\u001b[0m\n",
      "\u001b[34m#metrics {\"StartTime\": 1641170540.5339627, \"EndTime\": 1641170540.5339766, \"Dimensions\": {\"Algorithm\": \"Linear Learner\", \"Host\": \"algo-1\", \"Operation\": \"training\", \"epoch\": 1, \"model\": 1}, \"Metrics\": {\"train_absolute_loss_objective\": {\"sum\": 0.3898308714605727, \"count\": 1, \"min\": 0.3898308714605727, \"max\": 0.3898308714605727}}}\u001b[0m\n",
      "\u001b[34m#metrics {\"StartTime\": 1641170540.5340152, \"EndTime\": 1641170540.5340576, \"Dimensions\": {\"Algorithm\": \"Linear Learner\", \"Host\": \"algo-1\", \"Operation\": \"training\", \"epoch\": 1, \"model\": 2}, \"Metrics\": {\"train_absolute_loss_objective\": {\"sum\": 0.36776857286129355, \"count\": 1, \"min\": 0.36776857286129355, \"max\": 0.36776857286129355}}}\u001b[0m\n",
      "\u001b[34m#metrics {\"StartTime\": 1641170540.5341184, \"EndTime\": 1641170540.534135, \"Dimensions\": {\"Algorithm\": \"Linear Learner\", \"Host\": \"algo-1\", \"Operation\": \"training\", \"epoch\": 1, \"model\": 3}, \"Metrics\": {\"train_absolute_loss_objective\": {\"sum\": 0.41055443725495966, \"count\": 1, \"min\": 0.41055443725495966, \"max\": 0.41055443725495966}}}\u001b[0m\n",
      "\u001b[34m#metrics {\"StartTime\": 1641170540.534189, \"EndTime\": 1641170540.534205, \"Dimensions\": {\"Algorithm\": \"Linear Learner\", \"Host\": \"algo-1\", \"Operation\": \"training\", \"epoch\": 1, \"model\": 4}, \"Metrics\": {\"train_absolute_loss_objective\": {\"sum\": 0.352967130013232, \"count\": 1, \"min\": 0.352967130013232, \"max\": 0.352967130013232}}}\u001b[0m\n",
      "\u001b[34m#metrics {\"StartTime\": 1641170540.5342581, \"EndTime\": 1641170540.5342736, \"Dimensions\": {\"Algorithm\": \"Linear Learner\", \"Host\": \"algo-1\", \"Operation\": \"training\", \"epoch\": 1, \"model\": 5}, \"Metrics\": {\"train_absolute_loss_objective\": {\"sum\": 0.38415978112310734, \"count\": 1, \"min\": 0.38415978112310734, \"max\": 0.38415978112310734}}}\u001b[0m\n",
      "\u001b[34m#metrics {\"StartTime\": 1641170540.5343323, \"EndTime\": 1641170540.534349, \"Dimensions\": {\"Algorithm\": \"Linear Learner\", \"Host\": \"algo-1\", \"Operation\": \"training\", \"epoch\": 1, \"model\": 6}, \"Metrics\": {\"train_absolute_loss_objective\": {\"sum\": 0.34508235926898023, \"count\": 1, \"min\": 0.34508235926898023, \"max\": 0.34508235926898023}}}\u001b[0m\n",
      "\u001b[34m#metrics {\"StartTime\": 1641170540.534409, \"EndTime\": 1641170540.5344253, \"Dimensions\": {\"Algorithm\": \"Linear Learner\", \"Host\": \"algo-1\", \"Operation\": \"training\", \"epoch\": 1, \"model\": 7}, \"Metrics\": {\"train_absolute_loss_objective\": {\"sum\": 0.35040362623502624, \"count\": 1, \"min\": 0.35040362623502624, \"max\": 0.35040362623502624}}}\u001b[0m\n",
      "\u001b[34m#metrics {\"StartTime\": 1641170540.5344772, \"EndTime\": 1641170540.5344944, \"Dimensions\": {\"Algorithm\": \"Linear Learner\", \"Host\": \"algo-1\", \"Operation\": \"training\", \"epoch\": 1, \"model\": 8}, \"Metrics\": {\"train_absolute_loss_objective\": {\"sum\": 0.4232256569952335, \"count\": 1, \"min\": 0.4232256569952335, \"max\": 0.4232256569952335}}}\u001b[0m\n",
      "\u001b[34m#metrics {\"StartTime\": 1641170540.5345426, \"EndTime\": 1641170540.5345573, \"Dimensions\": {\"Algorithm\": \"Linear Learner\", \"Host\": \"algo-1\", \"Operation\": \"training\", \"epoch\": 1, \"model\": 9}, \"Metrics\": {\"train_absolute_loss_objective\": {\"sum\": 0.3550117776078998, \"count\": 1, \"min\": 0.3550117776078998, \"max\": 0.3550117776078998}}}\u001b[0m\n",
      "\u001b[34m[01/03/2022 00:42:20 INFO 139680974665536] #quality_metric: host=algo-1, epoch=1, train absolute_loss_objective <loss>=0.3810232010652434\u001b[0m\n",
      "\u001b[34m[01/03/2022 00:42:20 INFO 139680974665536] #early_stopping_criteria_metric: host=algo-1, epoch=1, criteria=absolute_loss_objective, value=0.34508235926898023\u001b[0m\n",
      "\u001b[34m[01/03/2022 00:42:20 INFO 139680974665536] Epoch 1: Loss improved. Updating best model\u001b[0m\n",
      "\u001b[34m[01/03/2022 00:42:20 INFO 139680974665536] Saving model for epoch: 1\u001b[0m\n",
      "\u001b[34m[01/03/2022 00:42:20 INFO 139680974665536] Saved checkpoint to \"/tmp/tmptuqg7xw1/mx-mod-0000.params\"\u001b[0m\n",
      "\u001b[34m[01/03/2022 00:42:20 INFO 139680974665536] #progress_metric: host=algo-1, completed 40.0 % of epochs\u001b[0m\n",
      "\u001b[34m#metrics {\"StartTime\": 1641170540.1928852, \"EndTime\": 1641170540.5422792, \"Dimensions\": {\"Algorithm\": \"Linear Learner\", \"Host\": \"algo-1\", \"Operation\": \"training\", \"epoch\": 1, \"Meta\": \"training_data_iter\"}, \"Metrics\": {\"Total Records Seen\": {\"sum\": 3230.0, \"count\": 1, \"min\": 3230, \"max\": 3230}, \"Total Batches Seen\": {\"sum\": 163.0, \"count\": 1, \"min\": 163, \"max\": 163}, \"Max Records Seen Between Resets\": {\"sum\": 1070.0, \"count\": 1, \"min\": 1070, \"max\": 1070}, \"Max Batches Seen Between Resets\": {\"sum\": 54.0, \"count\": 1, \"min\": 54, \"max\": 54}, \"Reset Count\": {\"sum\": 4.0, \"count\": 1, \"min\": 4, \"max\": 4}, \"Number of Records Since Last Reset\": {\"sum\": 1070.0, \"count\": 1, \"min\": 1070, \"max\": 1070}, \"Number of Batches Since Last Reset\": {\"sum\": 54.0, \"count\": 1, \"min\": 54, \"max\": 54}}}\u001b[0m\n",
      "\u001b[34m[01/03/2022 00:42:20 INFO 139680974665536] #throughput_metric: host=algo-1, train throughput=3061.312312969856 records/second\u001b[0m\n",
      "\u001b[34m[2022-01-03 00:42:20.915] [tensorio] [info] epoch_stats={\"data_pipeline\": \"/opt/ml/input/data/train\", \"epoch\": 8, \"duration\": 372, \"num_examples\": 54, \"num_bytes\": 81320}\u001b[0m\n",
      "\u001b[34m#metrics {\"StartTime\": 1641170540.9153636, \"EndTime\": 1641170540.9154205, \"Dimensions\": {\"Algorithm\": \"Linear Learner\", \"Host\": \"algo-1\", \"Operation\": \"training\", \"epoch\": 2, \"model\": 0}, \"Metrics\": {\"train_absolute_loss_objective\": {\"sum\": 0.3153513120030457, \"count\": 1, \"min\": 0.3153513120030457, \"max\": 0.3153513120030457}}}\u001b[0m\n",
      "\u001b[34m#metrics {\"StartTime\": 1641170540.9155035, \"EndTime\": 1641170540.9155183, \"Dimensions\": {\"Algorithm\": \"Linear Learner\", \"Host\": \"algo-1\", \"Operation\": \"training\", \"epoch\": 2, \"model\": 1}, \"Metrics\": {\"train_absolute_loss_objective\": {\"sum\": 0.31508142385842663, \"count\": 1, \"min\": 0.31508142385842663, \"max\": 0.31508142385842663}}}\u001b[0m\n",
      "\u001b[34m#metrics {\"StartTime\": 1641170540.915556, \"EndTime\": 1641170540.91557, \"Dimensions\": {\"Algorithm\": \"Linear Learner\", \"Host\": \"algo-1\", \"Operation\": \"training\", \"epoch\": 2, \"model\": 2}, \"Metrics\": {\"train_absolute_loss_objective\": {\"sum\": 0.3125473787199776, \"count\": 1, \"min\": 0.3125473787199776, \"max\": 0.3125473787199776}}}\u001b[0m\n",
      "\u001b[34m#metrics {\"StartTime\": 1641170540.9156306, \"EndTime\": 1641170540.9156475, \"Dimensions\": {\"Algorithm\": \"Linear Learner\", \"Host\": \"algo-1\", \"Operation\": \"training\", \"epoch\": 2, \"model\": 3}, \"Metrics\": {\"train_absolute_loss_objective\": {\"sum\": 0.32189573218237677, \"count\": 1, \"min\": 0.32189573218237677, \"max\": 0.32189573218237677}}}\u001b[0m\n",
      "\u001b[34m#metrics {\"StartTime\": 1641170540.9156978, \"EndTime\": 1641170540.9157143, \"Dimensions\": {\"Algorithm\": \"Linear Learner\", \"Host\": \"algo-1\", \"Operation\": \"training\", \"epoch\": 2, \"model\": 4}, \"Metrics\": {\"train_absolute_loss_objective\": {\"sum\": 0.4236866941991842, \"count\": 1, \"min\": 0.4236866941991842, \"max\": 0.4236866941991842}}}\u001b[0m\n",
      "\u001b[34m#metrics {\"StartTime\": 1641170540.9157643, \"EndTime\": 1641170540.915781, \"Dimensions\": {\"Algorithm\": \"Linear Learner\", \"Host\": \"algo-1\", \"Operation\": \"training\", \"epoch\": 2, \"model\": 5}, \"Metrics\": {\"train_absolute_loss_objective\": {\"sum\": 0.3891069104086678, \"count\": 1, \"min\": 0.3891069104086678, \"max\": 0.3891069104086678}}}\u001b[0m\n",
      "\u001b[34m#metrics {\"StartTime\": 1641170540.915832, \"EndTime\": 1641170540.915849, \"Dimensions\": {\"Algorithm\": \"Linear Learner\", \"Host\": \"algo-1\", \"Operation\": \"training\", \"epoch\": 2, \"model\": 6}, \"Metrics\": {\"train_absolute_loss_objective\": {\"sum\": 0.34468125014934897, \"count\": 1, \"min\": 0.34468125014934897, \"max\": 0.34468125014934897}}}\u001b[0m\n",
      "\u001b[34m#metrics {\"StartTime\": 1641170540.9159002, \"EndTime\": 1641170540.9159172, \"Dimensions\": {\"Algorithm\": \"Linear Learner\", \"Host\": \"algo-1\", \"Operation\": \"training\", \"epoch\": 2, \"model\": 7}, \"Metrics\": {\"train_absolute_loss_objective\": {\"sum\": 0.36739881713435335, \"count\": 1, \"min\": 0.36739881713435335, \"max\": 0.36739881713435335}}}\u001b[0m\n",
      "\u001b[34m#metrics {\"StartTime\": 1641170540.915967, \"EndTime\": 1641170540.9159825, \"Dimensions\": {\"Algorithm\": \"Linear Learner\", \"Host\": \"algo-1\", \"Operation\": \"training\", \"epoch\": 2, \"model\": 8}, \"Metrics\": {\"train_absolute_loss_objective\": {\"sum\": 0.3319240900705446, \"count\": 1, \"min\": 0.3319240900705446, \"max\": 0.3319240900705446}}}\u001b[0m\n",
      "\u001b[34m#metrics {\"StartTime\": 1641170540.9160295, \"EndTime\": 1641170540.9160438, \"Dimensions\": {\"Algorithm\": \"Linear Learner\", \"Host\": \"algo-1\", \"Operation\": \"training\", \"epoch\": 2, \"model\": 9}, \"Metrics\": {\"train_absolute_loss_objective\": {\"sum\": 0.3114840708813577, \"count\": 1, \"min\": 0.3114840708813577, \"max\": 0.3114840708813577}}}\u001b[0m\n",
      "\u001b[34m[01/03/2022 00:42:20 INFO 139680974665536] #quality_metric: host=algo-1, epoch=2, train absolute_loss_objective <loss>=0.3153513120030457\u001b[0m\n",
      "\u001b[34m[01/03/2022 00:42:20 INFO 139680974665536] #early_stopping_criteria_metric: host=algo-1, epoch=2, criteria=absolute_loss_objective, value=0.3114840708813577\u001b[0m\n",
      "\u001b[34m[01/03/2022 00:42:20 INFO 139680974665536] Epoch 2: Loss improved. Updating best model\u001b[0m\n",
      "\u001b[34m[01/03/2022 00:42:20 INFO 139680974665536] Saving model for epoch: 2\u001b[0m\n",
      "\u001b[34m[01/03/2022 00:42:20 INFO 139680974665536] Saved checkpoint to \"/tmp/tmp18paxk60/mx-mod-0000.params\"\u001b[0m\n",
      "\u001b[34m[01/03/2022 00:42:20 INFO 139680974665536] #progress_metric: host=algo-1, completed 60.0 % of epochs\u001b[0m\n",
      "\u001b[34m#metrics {\"StartTime\": 1641170540.5425532, \"EndTime\": 1641170540.923241, \"Dimensions\": {\"Algorithm\": \"Linear Learner\", \"Host\": \"algo-1\", \"Operation\": \"training\", \"epoch\": 2, \"Meta\": \"training_data_iter\"}, \"Metrics\": {\"Total Records Seen\": {\"sum\": 4300.0, \"count\": 1, \"min\": 4300, \"max\": 4300}, \"Total Batches Seen\": {\"sum\": 217.0, \"count\": 1, \"min\": 217, \"max\": 217}, \"Max Records Seen Between Resets\": {\"sum\": 1070.0, \"count\": 1, \"min\": 1070, \"max\": 1070}, \"Max Batches Seen Between Resets\": {\"sum\": 54.0, \"count\": 1, \"min\": 54, \"max\": 54}, \"Reset Count\": {\"sum\": 5.0, \"count\": 1, \"min\": 5, \"max\": 5}, \"Number of Records Since Last Reset\": {\"sum\": 1070.0, \"count\": 1, \"min\": 1070, \"max\": 1070}, \"Number of Batches Since Last Reset\": {\"sum\": 54.0, \"count\": 1, \"min\": 54, \"max\": 54}}}\u001b[0m\n",
      "\u001b[34m[01/03/2022 00:42:20 INFO 139680974665536] #throughput_metric: host=algo-1, train throughput=2809.6803795903215 records/second\u001b[0m\n",
      "\u001b[34m[2022-01-03 00:42:21.226] [tensorio] [info] epoch_stats={\"data_pipeline\": \"/opt/ml/input/data/train\", \"epoch\": 10, \"duration\": 302, \"num_examples\": 54, \"num_bytes\": 81320}\u001b[0m\n",
      "\u001b[34m#metrics {\"StartTime\": 1641170541.2264607, \"EndTime\": 1641170541.226514, \"Dimensions\": {\"Algorithm\": \"Linear Learner\", \"Host\": \"algo-1\", \"Operation\": \"training\", \"epoch\": 3, \"model\": 0}, \"Metrics\": {\"train_absolute_loss_objective\": {\"sum\": 0.3069718153971546, \"count\": 1, \"min\": 0.3069718153971546, \"max\": 0.3069718153971546}}}\u001b[0m\n",
      "\u001b[34m#metrics {\"StartTime\": 1641170541.2265954, \"EndTime\": 1641170541.2266092, \"Dimensions\": {\"Algorithm\": \"Linear Learner\", \"Host\": \"algo-1\", \"Operation\": \"training\", \"epoch\": 3, \"model\": 1}, \"Metrics\": {\"train_absolute_loss_objective\": {\"sum\": 0.30649294763241175, \"count\": 1, \"min\": 0.30649294763241175, \"max\": 0.30649294763241175}}}\u001b[0m\n",
      "\u001b[34m#metrics {\"StartTime\": 1641170541.2266428, \"EndTime\": 1641170541.2266564, \"Dimensions\": {\"Algorithm\": \"Linear Learner\", \"Host\": \"algo-1\", \"Operation\": \"training\", \"epoch\": 3, \"model\": 2}, \"Metrics\": {\"train_absolute_loss_objective\": {\"sum\": 0.3061716192173508, \"count\": 1, \"min\": 0.3061716192173508, \"max\": 0.3061716192173508}}}\u001b[0m\n",
      "\u001b[34m#metrics {\"StartTime\": 1641170541.2266998, \"EndTime\": 1641170541.2267134, \"Dimensions\": {\"Algorithm\": \"Linear Learner\", \"Host\": \"algo-1\", \"Operation\": \"training\", \"epoch\": 3, \"model\": 3}, \"Metrics\": {\"train_absolute_loss_objective\": {\"sum\": 0.30814819425906775, \"count\": 1, \"min\": 0.30814819425906775, \"max\": 0.30814819425906775}}}\u001b[0m\n",
      "\u001b[34m#metrics {\"StartTime\": 1641170541.2267666, \"EndTime\": 1641170541.2267814, \"Dimensions\": {\"Algorithm\": \"Linear Learner\", \"Host\": \"algo-1\", \"Operation\": \"training\", \"epoch\": 3, \"model\": 4}, \"Metrics\": {\"train_absolute_loss_objective\": {\"sum\": 0.38977011284738217, \"count\": 1, \"min\": 0.38977011284738217, \"max\": 0.38977011284738217}}}\u001b[0m\n",
      "\u001b[34m#metrics {\"StartTime\": 1641170541.2268333, \"EndTime\": 1641170541.2268488, \"Dimensions\": {\"Algorithm\": \"Linear Learner\", \"Host\": \"algo-1\", \"Operation\": \"training\", \"epoch\": 3, \"model\": 5}, \"Metrics\": {\"train_absolute_loss_objective\": {\"sum\": 0.40090870317423116, \"count\": 1, \"min\": 0.40090870317423116, \"max\": 0.40090870317423116}}}\u001b[0m\n",
      "\u001b[34m#metrics {\"StartTime\": 1641170541.2269008, \"EndTime\": 1641170541.2269168, \"Dimensions\": {\"Algorithm\": \"Linear Learner\", \"Host\": \"algo-1\", \"Operation\": \"training\", \"epoch\": 3, \"model\": 6}, \"Metrics\": {\"train_absolute_loss_objective\": {\"sum\": 0.36765231681319904, \"count\": 1, \"min\": 0.36765231681319904, \"max\": 0.36765231681319904}}}\u001b[0m\n",
      "\u001b[34m#metrics {\"StartTime\": 1641170541.2269785, \"EndTime\": 1641170541.2269952, \"Dimensions\": {\"Algorithm\": \"Linear Learner\", \"Host\": \"algo-1\", \"Operation\": \"training\", \"epoch\": 3, \"model\": 7}, \"Metrics\": {\"train_absolute_loss_objective\": {\"sum\": 0.36453012003088897, \"count\": 1, \"min\": 0.36453012003088897, \"max\": 0.36453012003088897}}}\u001b[0m\n",
      "\u001b[34m#metrics {\"StartTime\": 1641170541.227054, \"EndTime\": 1641170541.2270713, \"Dimensions\": {\"Algorithm\": \"Linear Learner\", \"Host\": \"algo-1\", \"Operation\": \"training\", \"epoch\": 3, \"model\": 8}, \"Metrics\": {\"train_absolute_loss_objective\": {\"sum\": 0.30930716125470287, \"count\": 1, \"min\": 0.30930716125470287, \"max\": 0.30930716125470287}}}\u001b[0m\n",
      "\u001b[34m#metrics {\"StartTime\": 1641170541.2271228, \"EndTime\": 1641170541.227138, \"Dimensions\": {\"Algorithm\": \"Linear Learner\", \"Host\": \"algo-1\", \"Operation\": \"training\", \"epoch\": 3, \"model\": 9}, \"Metrics\": {\"train_absolute_loss_objective\": {\"sum\": 0.30608504088419786, \"count\": 1, \"min\": 0.30608504088419786, \"max\": 0.30608504088419786}}}\u001b[0m\n",
      "\u001b[34m[01/03/2022 00:42:21 INFO 139680974665536] #quality_metric: host=algo-1, epoch=3, train absolute_loss_objective <loss>=0.3069718153971546\u001b[0m\n",
      "\u001b[34m[01/03/2022 00:42:21 INFO 139680974665536] #early_stopping_criteria_metric: host=algo-1, epoch=3, criteria=absolute_loss_objective, value=0.30608504088419786\u001b[0m\n",
      "\u001b[34m[01/03/2022 00:42:21 INFO 139680974665536] Epoch 3: Loss improved. Updating best model\u001b[0m\n",
      "\u001b[34m[01/03/2022 00:42:21 INFO 139680974665536] Saving model for epoch: 3\u001b[0m\n",
      "\u001b[34m[01/03/2022 00:42:21 INFO 139680974665536] Saved checkpoint to \"/tmp/tmpx1fc19kw/mx-mod-0000.params\"\u001b[0m\n",
      "\u001b[34m[01/03/2022 00:42:21 INFO 139680974665536] #progress_metric: host=algo-1, completed 80.0 % of epochs\u001b[0m\n",
      "\u001b[34m#metrics {\"StartTime\": 1641170540.9235585, \"EndTime\": 1641170541.2345326, \"Dimensions\": {\"Algorithm\": \"Linear Learner\", \"Host\": \"algo-1\", \"Operation\": \"training\", \"epoch\": 3, \"Meta\": \"training_data_iter\"}, \"Metrics\": {\"Total Records Seen\": {\"sum\": 5370.0, \"count\": 1, \"min\": 5370, \"max\": 5370}, \"Total Batches Seen\": {\"sum\": 271.0, \"count\": 1, \"min\": 271, \"max\": 271}, \"Max Records Seen Between Resets\": {\"sum\": 1070.0, \"count\": 1, \"min\": 1070, \"max\": 1070}, \"Max Batches Seen Between Resets\": {\"sum\": 54.0, \"count\": 1, \"min\": 54, \"max\": 54}, \"Reset Count\": {\"sum\": 6.0, \"count\": 1, \"min\": 6, \"max\": 6}, \"Number of Records Since Last Reset\": {\"sum\": 1070.0, \"count\": 1, \"min\": 1070, \"max\": 1070}, \"Number of Batches Since Last Reset\": {\"sum\": 54.0, \"count\": 1, \"min\": 54, \"max\": 54}}}\u001b[0m\n",
      "\u001b[34m[01/03/2022 00:42:21 INFO 139680974665536] #throughput_metric: host=algo-1, train throughput=3439.1607289825906 records/second\u001b[0m\n",
      "\u001b[34m[2022-01-03 00:42:21.611] [tensorio] [info] epoch_stats={\"data_pipeline\": \"/opt/ml/input/data/train\", \"epoch\": 12, \"duration\": 376, \"num_examples\": 54, \"num_bytes\": 81320}\u001b[0m\n",
      "\u001b[34m#metrics {\"StartTime\": 1641170541.611496, \"EndTime\": 1641170541.611556, \"Dimensions\": {\"Algorithm\": \"Linear Learner\", \"Host\": \"algo-1\", \"Operation\": \"training\", \"epoch\": 4, \"model\": 0}, \"Metrics\": {\"train_absolute_loss_objective\": {\"sum\": 0.3055357834078231, \"count\": 1, \"min\": 0.3055357834078231, \"max\": 0.3055357834078231}}}\u001b[0m\n",
      "\u001b[34m#metrics {\"StartTime\": 1641170541.6116533, \"EndTime\": 1641170541.611725, \"Dimensions\": {\"Algorithm\": \"Linear Learner\", \"Host\": \"algo-1\", \"Operation\": \"training\", \"epoch\": 4, \"model\": 1}, \"Metrics\": {\"train_absolute_loss_objective\": {\"sum\": 0.30434282748204355, \"count\": 1, \"min\": 0.30434282748204355, \"max\": 0.30434282748204355}}}\u001b[0m\n",
      "\u001b[34m#metrics {\"StartTime\": 1641170541.6118228, \"EndTime\": 1641170541.611843, \"Dimensions\": {\"Algorithm\": \"Linear Learner\", \"Host\": \"algo-1\", \"Operation\": \"training\", \"epoch\": 4, \"model\": 2}, \"Metrics\": {\"train_absolute_loss_objective\": {\"sum\": 0.3043943614329932, \"count\": 1, \"min\": 0.3043943614329932, \"max\": 0.3043943614329932}}}\u001b[0m\n",
      "\u001b[34m#metrics {\"StartTime\": 1641170541.6119003, \"EndTime\": 1641170541.6119535, \"Dimensions\": {\"Algorithm\": \"Linear Learner\", \"Host\": \"algo-1\", \"Operation\": \"training\", \"epoch\": 4, \"model\": 3}, \"Metrics\": {\"train_absolute_loss_objective\": {\"sum\": 0.3051894149690304, \"count\": 1, \"min\": 0.3051894149690304, \"max\": 0.3051894149690304}}}\u001b[0m\n",
      "\u001b[34m#metrics {\"StartTime\": 1641170541.612039, \"EndTime\": 1641170541.6120582, \"Dimensions\": {\"Algorithm\": \"Linear Learner\", \"Host\": \"algo-1\", \"Operation\": \"training\", \"epoch\": 4, \"model\": 4}, \"Metrics\": {\"train_absolute_loss_objective\": {\"sum\": 0.3890946824595613, \"count\": 1, \"min\": 0.3890946824595613, \"max\": 0.3890946824595613}}}\u001b[0m\n",
      "\u001b[34m#metrics {\"StartTime\": 1641170541.612108, \"EndTime\": 1641170541.6121242, \"Dimensions\": {\"Algorithm\": \"Linear Learner\", \"Host\": \"algo-1\", \"Operation\": \"training\", \"epoch\": 4, \"model\": 5}, \"Metrics\": {\"train_absolute_loss_objective\": {\"sum\": 0.3754956065483813, \"count\": 1, \"min\": 0.3754956065483813, \"max\": 0.3754956065483813}}}\u001b[0m\n",
      "\u001b[34m#metrics {\"StartTime\": 1641170541.6121745, \"EndTime\": 1641170541.6121907, \"Dimensions\": {\"Algorithm\": \"Linear Learner\", \"Host\": \"algo-1\", \"Operation\": \"training\", \"epoch\": 4, \"model\": 6}, \"Metrics\": {\"train_absolute_loss_objective\": {\"sum\": 0.3657331995244296, \"count\": 1, \"min\": 0.3657331995244296, \"max\": 0.3657331995244296}}}\u001b[0m\n",
      "\u001b[34m#metrics {\"StartTime\": 1641170541.6122339, \"EndTime\": 1641170541.612249, \"Dimensions\": {\"Algorithm\": \"Linear Learner\", \"Host\": \"algo-1\", \"Operation\": \"training\", \"epoch\": 4, \"model\": 7}, \"Metrics\": {\"train_absolute_loss_objective\": {\"sum\": 0.3857727010295076, \"count\": 1, \"min\": 0.3857727010295076, \"max\": 0.3857727010295076}}}\u001b[0m\n",
      "\u001b[34m#metrics {\"StartTime\": 1641170541.6122992, \"EndTime\": 1641170541.6123147, \"Dimensions\": {\"Algorithm\": \"Linear Learner\", \"Host\": \"algo-1\", \"Operation\": \"training\", \"epoch\": 4, \"model\": 8}, \"Metrics\": {\"train_absolute_loss_objective\": {\"sum\": 0.3074231444664721, \"count\": 1, \"min\": 0.3074231444664721, \"max\": 0.3074231444664721}}}\u001b[0m\n",
      "\u001b[34m#metrics {\"StartTime\": 1641170541.6123648, \"EndTime\": 1641170541.6123803, \"Dimensions\": {\"Algorithm\": \"Linear Learner\", \"Host\": \"algo-1\", \"Operation\": \"training\", \"epoch\": 4, \"model\": 9}, \"Metrics\": {\"train_absolute_loss_objective\": {\"sum\": 0.30421894473849603, \"count\": 1, \"min\": 0.30421894473849603, \"max\": 0.30421894473849603}}}\u001b[0m\n",
      "\u001b[34m[01/03/2022 00:42:21 INFO 139680974665536] #quality_metric: host=algo-1, epoch=4, train absolute_loss_objective <loss>=0.3055357834078231\u001b[0m\n",
      "\u001b[34m[01/03/2022 00:42:21 INFO 139680974665536] #early_stopping_criteria_metric: host=algo-1, epoch=4, criteria=absolute_loss_objective, value=0.30421894473849603\u001b[0m\n",
      "\u001b[34m[01/03/2022 00:42:21 INFO 139680974665536] Epoch 4: Loss improved. Updating best model\u001b[0m\n",
      "\u001b[34m[01/03/2022 00:42:21 INFO 139680974665536] Saving model for epoch: 4\u001b[0m\n",
      "\u001b[34m[01/03/2022 00:42:21 INFO 139680974665536] Saved checkpoint to \"/tmp/tmpdpv4j5dj/mx-mod-0000.params\"\u001b[0m\n",
      "\u001b[34m[01/03/2022 00:42:21 INFO 139680974665536] #progress_metric: host=algo-1, completed 100.0 % of epochs\u001b[0m\n",
      "\u001b[34m#metrics {\"StartTime\": 1641170541.234814, \"EndTime\": 1641170541.619745, \"Dimensions\": {\"Algorithm\": \"Linear Learner\", \"Host\": \"algo-1\", \"Operation\": \"training\", \"epoch\": 4, \"Meta\": \"training_data_iter\"}, \"Metrics\": {\"Total Records Seen\": {\"sum\": 6440.0, \"count\": 1, \"min\": 6440, \"max\": 6440}, \"Total Batches Seen\": {\"sum\": 325.0, \"count\": 1, \"min\": 325, \"max\": 325}, \"Max Records Seen Between Resets\": {\"sum\": 1070.0, \"count\": 1, \"min\": 1070, \"max\": 1070}, \"Max Batches Seen Between Resets\": {\"sum\": 54.0, \"count\": 1, \"min\": 54, \"max\": 54}, \"Reset Count\": {\"sum\": 7.0, \"count\": 1, \"min\": 7, \"max\": 7}, \"Number of Records Since Last Reset\": {\"sum\": 1070.0, \"count\": 1, \"min\": 1070, \"max\": 1070}, \"Number of Batches Since Last Reset\": {\"sum\": 54.0, \"count\": 1, \"min\": 54, \"max\": 54}}}\u001b[0m\n",
      "\u001b[34m[01/03/2022 00:42:21 INFO 139680974665536] #throughput_metric: host=algo-1, train throughput=2778.7201024334126 records/second\u001b[0m\n",
      "\u001b[34m[01/03/2022 00:42:21 WARNING 139680974665536] wait_for_all_workers will not sync workers since the kv store is not running distributed\u001b[0m\n",
      "\u001b[34m[01/03/2022 00:42:21 WARNING 139680974665536] wait_for_all_workers will not sync workers since the kv store is not running distributed\u001b[0m\n",
      "\u001b[34m[2022-01-03 00:42:21.620] [tensorio] [info] epoch_stats={\"data_pipeline\": \"/opt/ml/input/data/train\", \"epoch\": 14, \"duration\": 0, \"num_examples\": 1, \"num_bytes\": 1520}\u001b[0m\n",
      "\u001b[34m[2022-01-03 00:42:21.713] [tensorio] [info] epoch_stats={\"data_pipeline\": \"/opt/ml/input/data/train\", \"epoch\": 16, \"duration\": 90, \"num_examples\": 54, \"num_bytes\": 81320}\u001b[0m\n",
      "\u001b[34m[01/03/2022 00:42:21 INFO 139680974665536] #train_score (algo-1) : ('absolute_loss_objective', 3663.2041691004674)\u001b[0m\n",
      "\u001b[34m[01/03/2022 00:42:21 INFO 139680974665536] #train_score (algo-1) : ('mse', 48490548.321495324)\u001b[0m\n",
      "\u001b[34m[01/03/2022 00:42:21 INFO 139680974665536] #train_score (algo-1) : ('absolute_loss', 3663.2041691004674)\u001b[0m\n",
      "\u001b[34m[01/03/2022 00:42:21 INFO 139680974665536] #train_score (algo-1) : ('rmse', 6963.515514558385)\u001b[0m\n",
      "\u001b[34m[01/03/2022 00:42:21 INFO 139680974665536] #train_score (algo-1) : ('r2', 0.6694000608864198)\u001b[0m\n",
      "\u001b[34m[01/03/2022 00:42:21 INFO 139680974665536] #train_score (algo-1) : ('mae', 3663.204191232842)\u001b[0m\n",
      "\u001b[34m[01/03/2022 00:42:21 INFO 139680974665536] #quality_metric: host=algo-1, train absolute_loss_objective <loss>=3663.2041691004674\u001b[0m\n",
      "\u001b[34m[01/03/2022 00:42:21 INFO 139680974665536] #quality_metric: host=algo-1, train mse <loss>=48490548.321495324\u001b[0m\n",
      "\u001b[34m[01/03/2022 00:42:21 INFO 139680974665536] #quality_metric: host=algo-1, train absolute_loss <loss>=3663.2041691004674\u001b[0m\n",
      "\u001b[34m[01/03/2022 00:42:21 INFO 139680974665536] #quality_metric: host=algo-1, train rmse <loss>=6963.515514558385\u001b[0m\n",
      "\u001b[34m[01/03/2022 00:42:21 INFO 139680974665536] #quality_metric: host=algo-1, train r2 <loss>=0.6694000608864198\u001b[0m\n",
      "\u001b[34m[01/03/2022 00:42:21 INFO 139680974665536] #quality_metric: host=algo-1, train mae <loss>=3663.204191232842\u001b[0m\n",
      "\u001b[34m[01/03/2022 00:42:21 INFO 139680974665536] Best model found for hyperparameters: {\"optimizer\": \"adam\", \"learning_rate\": 0.005, \"wd\": 0.01, \"l1\": 0.0, \"lr_scheduler_step\": 100, \"lr_scheduler_factor\": 0.99, \"lr_scheduler_minimum_lr\": 1e-05}\u001b[0m\n",
      "\u001b[34m[01/03/2022 00:42:21 INFO 139680974665536] Saved checkpoint to \"/tmp/tmphina4l88/mx-mod-0000.params\"\u001b[0m\n",
      "\u001b[34m[01/03/2022 00:42:21 INFO 139680974665536] Test data is not provided.\u001b[0m\n",
      "\u001b[34m#metrics {\"StartTime\": 1641170539.3833995, \"EndTime\": 1641170541.721057, \"Dimensions\": {\"Algorithm\": \"Linear Learner\", \"Host\": \"algo-1\", \"Operation\": \"training\"}, \"Metrics\": {\"initialize.time\": {\"sum\": 452.12841033935547, \"count\": 1, \"min\": 452.12841033935547, \"max\": 452.12841033935547}, \"epochs\": {\"sum\": 5.0, \"count\": 1, \"min\": 5, \"max\": 5}, \"check_early_stopping.time\": {\"sum\": 5.536079406738281, \"count\": 5, \"min\": 0.9698867797851562, \"max\": 1.1894702911376953}, \"update.time\": {\"sum\": 1763.9434337615967, \"count\": 5, \"min\": 308.17508697509766, \"max\": 382.1604251861572}, \"finalize.time\": {\"sum\": 97.48148918151855, \"count\": 1, \"min\": 97.48148918151855, \"max\": 97.48148918151855}, \"setuptime\": {\"sum\": 23.406267166137695, \"count\": 1, \"min\": 23.406267166137695, \"max\": 23.406267166137695}, \"totaltime\": {\"sum\": 2579.874277114868, \"count\": 1, \"min\": 2579.874277114868, \"max\": 2579.874277114868}}}\u001b[0m\n",
      "\n",
      "2022-01-03 00:42:53 Completed - Training job completed\n",
      "Training seconds: 71\n",
      "Billable seconds: 71\n"
     ]
    }
   ],
   "source": [
    "linear.fit({'train': s3_train_data})\n"
   ]
  },
  {
   "cell_type": "code",
   "execution_count": 38,
   "id": "d7c32c38",
   "metadata": {},
   "outputs": [
    {
     "name": "stdout",
     "output_type": "stream",
     "text": [
      "-------!"
     ]
    }
   ],
   "source": [
    "linear_regressor = linear.deploy(initial_instance_count = 1,\n",
    "                                          instance_type = 'ml.m4.xlarge')\n",
    "\n",
    "#need to make sure data is in correct format for deployed model\n",
    "from sagemaker.predictor import csv_serializer, json_deserializer\n",
    "linear_regressor.serializer = csv_serializer\n",
    "linear_regressor.deserializer = json_deserializer"
   ]
  },
  {
   "cell_type": "code",
   "execution_count": 39,
   "id": "5a2f624d",
   "metadata": {},
   "outputs": [
    {
     "name": "stderr",
     "output_type": "stream",
     "text": [
      "The csv_serializer has been renamed in sagemaker>=2.\n",
      "See: https://sagemaker.readthedocs.io/en/stable/v2.html for details.\n",
      "The json_deserializer has been renamed in sagemaker>=2.\n",
      "See: https://sagemaker.readthedocs.io/en/stable/v2.html for details.\n"
     ]
    },
    {
     "data": {
      "text/plain": [
       "<matplotlib.collections.PathCollection at 0x7faeb91bf7f0>"
      ]
     },
     "execution_count": 39,
     "metadata": {},
     "output_type": "execute_result"
    },
    {
     "data": {
      "image/png": "[encoded data removed]",
      "text/plain": [
       "<Figure size 432x288 with 1 Axes>"
      ]
     },
     "metadata": {
      "needs_background": "light"
     },
     "output_type": "display_data"
    }
   ],
   "source": [
    "result = linear_regressor.predict(X_test)\n",
    "result #should be a JSON\n",
    "\n",
    "#Iterate the result JSON to get an NP array of all the predictions so we can compare to Y test\n",
    "predictions = np.array([res['score'] for res in result['predictions']])\n",
    "predictions #should now be an numpy array\n",
    "\n",
    "#Visualize how accurate predictions are relative to y_test\n",
    "plt.scatter(y_test, predictions)"
   ]
  },
  {
   "cell_type": "code",
   "execution_count": 40,
   "id": "973f98e4",
   "metadata": {},
   "outputs": [
    {
     "data": {
      "text/plain": [
       "7023.8777555925935"
      ]
     },
     "execution_count": 40,
     "metadata": {},
     "output_type": "execute_result"
    }
   ],
   "source": [
    "from sklearn import metrics \n",
    "np.sqrt(metrics.mean_squared_error(y_test, predictions))"
   ]
  },
  {
   "cell_type": "code",
   "execution_count": 41,
   "id": "4e052627",
   "metadata": {},
   "outputs": [],
   "source": [
    "#sagemaker.Session().delete_endpoint(linear_regressor.endpoint)"
   ]
  },
  {
   "cell_type": "code",
   "execution_count": null,
   "id": "d82c65ef",
   "metadata": {},
   "outputs": [],
   "source": []
  }
 ],
 "metadata": {
  "celltoolbar": "Edit Metadata",
  "kernelspec": {
   "display_name": "conda_python3",
   "language": "python",
   "name": "conda_python3"
  },
  "language_info": {
   "codemirror_mode": {
    "name": "ipython",
    "version": 3
   },
   "file_extension": ".py",
   "mimetype": "text/x-python",
   "name": "python",
   "nbconvert_exporter": "python",
   "pygments_lexer": "ipython3",
   "version": "3.6.13"
  }
 },
 "nbformat": 4,
 "nbformat_minor": 5
}
